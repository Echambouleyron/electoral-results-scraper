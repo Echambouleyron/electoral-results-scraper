{
 "cells": [
  {
   "cell_type": "code",
   "execution_count": 2,
   "metadata": {},
   "outputs": [],
   "source": [
    "import requests\n",
    "from fake_useragent import UserAgent\n",
    "from bs4 import BeautifulSoup\n",
    "from urllib.request import urlopen\n",
    "from selenium import webdriver\n",
    "from time import sleep\n",
    "from selenium.webdriver.support.ui import Select\n",
    "from selenium.webdriver.common.by import By\n",
    "from selenium.webdriver.support.ui import WebDriverWait\n",
    "from selenium.webdriver.support import expected_conditions as EC\n",
    "import pandas as pd\n",
    "import numpy as np"
   ]
  },
  {
   "cell_type": "code",
   "execution_count": 4,
   "metadata": {},
   "outputs": [],
   "source": [
    "driver = webdriver.Chrome('/Users/Administrador/Documents/chromedriver')\n",
    "\n",
    "cir = []\n",
    "votos = []\n",
    "votos1 = []\n",
    "\n",
    "\n",
    "def switch_to_top():\n",
    "    driver.switch_to.default_content()\n",
    "    driver.switch_to.frame(\"topFrame\")\n",
    "\n",
    "def switch_to_main():\n",
    "    driver.switch_to.default_content()\n",
    "    driver.switch_to.frame(\"mainFrame\")\n",
    "\n",
    "main_url = 'https://www.justiciacordoba.gob.ar/Estatico/JEL/Escrutinios/ReportesEleccion20190512/default.html'\n",
    "driver.get(main_url)\n",
    "\n",
    "switch_to_top()\n",
    "\n",
    "dropdown_secciones = driver.find_element_by_id('cmbSecciones')\n",
    "select_box_secciones = Select(dropdown_secciones)\n",
    "options_secciones = select_box_secciones.options\n",
    "\n",
    "mostrar_click = driver.find_element_by_id('cmdMostrar')\n",
    "\n",
    "\n",
    "for index in range(1, len(options_secciones)):\n",
    "    if (index > 1):\n",
    "        switch_to_top()\n",
    "    select_box_secciones.select_by_index(index)\n",
    "\n",
    "    dropdown_circuitos = driver.find_element_by_id('cmbCircuitos')\n",
    "    select_box_circuitos = Select(dropdown_circuitos)\n",
    "    items_circuitos = select_box_circuitos.options\n",
    "\n",
    "\n",
    "    for i in range(1, len(items_circuitos)):\n",
    "        if (i > 1):\n",
    "            switch_to_top()\n",
    "        select_box_circuitos.select_by_index(i)\n",
    "        mostrar_click.click()\n",
    "        switch_to_main()\n",
    "        WebDriverWait(driver, 60).until(EC.visibility_of_element_located((By.CSS_SELECTOR, \"body>table\")))\n",
    "        soup = BeautifulSoup(driver.page_source, \"html.parser\")\n",
    "        \n",
    "        for td in soup.findAll('td',{'class':'c1'}):\n",
    "            circuitos = td.text\n",
    "            cir.append(circuitos)\n",
    "        \n",
    "        for tr in soup.find('table').find_all('tr'):\n",
    "                \n",
    "            row = tr.find_all(lambda td: td.has_attr('class'))            \n",
    "            \n",
    "            if (len(row) == 3)  and (row[0].text != 'Nº'):\n",
    "                data = [td.text for td in row]\n",
    "                votos.append(data)\n",
    "        \n",
    "            if (len(row) == 2) and (row[0].text != 'Nº'):\n",
    "                datos = [td.text for td in row]\n",
    "                votos1.append(datos)\n",
    "                \n",
    "            \n",
    "               \n",
    "        "
   ]
  },
  {
   "cell_type": "code",
   "execution_count": null,
   "metadata": {},
   "outputs": [],
   "source": [
    "df_votos = pd.DataFrame(votos, columns = ['codigo_agrupacion','partido','votos'])"
   ]
  },
  {
   "cell_type": "code",
   "execution_count": null,
   "metadata": {},
   "outputs": [],
   "source": [
    "df_votos.head(12)"
   ]
  }
 ],
 "metadata": {
  "kernelspec": {
   "display_name": "Python 3",
   "language": "python",
   "name": "python3"
  },
  "language_info": {
   "codemirror_mode": {
    "name": "ipython",
    "version": 3
   },
   "file_extension": ".py",
   "mimetype": "text/x-python",
   "name": "python",
   "nbconvert_exporter": "python",
   "pygments_lexer": "ipython3",
   "version": "3.7.4"
  }
 },
 "nbformat": 4,
 "nbformat_minor": 4
}
